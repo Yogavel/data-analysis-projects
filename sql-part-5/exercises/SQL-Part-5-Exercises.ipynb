{
 "cells": [
  {
   "cell_type": "markdown",
   "metadata": {},
   "source": [
    "# Exercises: Creating, Updating, and Destroying Objects\n",
    "\n",
    "For the exercises, you will be working with objects and data you create. Before opening this notebook, make sure that you have set up the new connection to the server and that you have located the database and your schema.\n",
    "\n",
    "## Object Creation\n",
    "\n",
    "Before coding, think of three things you want to make. These could be coding projects, new recipes, or planned projects for a woodworking hobby. Brainstorm the appropriate column names and data types as well.\n",
    "\n",
    "Create a table under your schema called `planned_makes`."
   ]
  },
  {
   "cell_type": "code",
   "execution_count": null,
   "metadata": {
    "vscode": {
     "languageId": "sql"
    }
   },
   "outputs": [],
   "source": [
    "CREATE TABLE Sep2025JunkDB.yogalakshmi_kanagavel.planned_makes (\n",
    "    make_id INT IDENTITY(1,1) PRIMARY KEY,\n",
    "    name VARCHAR(100) NOT NULL,\n",
    "    category VARCHAR(50),\n",
    "    estimated_time INT,\n",
    "    materials VARCHAR(255),\n",
    "    planned_date DATE,\n",
    "    status VARCHAR(20) DEFAULT 'planned'\n",
    ");"
   ]
  },
  {
   "cell_type": "markdown",
   "metadata": {},
   "source": [
    "Add three rows to your table that are your planned makes."
   ]
  },
  {
   "cell_type": "code",
   "execution_count": null,
   "metadata": {
    "vscode": {
     "languageId": "sql"
    }
   },
   "outputs": [],
   "source": [
    "INSERT INTO Sep2025JunkDB.yogalakshmi_kanagavel.planned_makes (name, category, estimated_time, materials, planned_date, status)\n",
    "VALUES\n",
    "('Pasta', 'Cooking', 1, 'Pasta Shells, Cheese, Marinara sauce, Olive Oil', '2025-11-01', 'planned'),\n",
    "('Chocolate Cake', 'Baking', 2, 'Flour, Sugar, Cocoa, Eggs, Butter', '2025-10-28', 'planned'),\n",
    "('Bird Painting', 'Oil paint', 3, 'Brushes, Primer', '2025-10-02', 'Completed');"
   ]
  },
  {
   "cell_type": "markdown",
   "metadata": {},
   "source": [
    "## Update a Row\n",
    "\n",
    "Change different values in one of your three rows."
   ]
  },
  {
   "cell_type": "code",
   "execution_count": null,
   "metadata": {
    "vscode": {
     "languageId": "sql"
    }
   },
   "outputs": [],
   "source": [
    "Update Sep2025JunkDB.yogalakshmi_kanagavel.planned_makes\n",
    "set estimated_time = 0,\n",
    "status = 'Cancelled'\n",
    "WHERE name = 'Pasta'\n",
    "\n",
    "SELECT * FROM Sep2025JunkDB.yogalakshmi_kanagavel.planned_makes"
   ]
  },
  {
   "cell_type": "markdown",
   "metadata": {},
   "source": [
    "## Delete a Row\n",
    "\n",
    "Delete one of the rows from your table."
   ]
  },
  {
   "cell_type": "code",
   "execution_count": null,
   "metadata": {
    "vscode": {
     "languageId": "sql"
    }
   },
   "outputs": [],
   "source": [
    "DELETE FROM Sep2025JunkDB.yogalakshmi_kanagavel.planned_makes\n",
    "WHERE name = 'Chocolate Cake'"
   ]
  },
  {
   "cell_type": "markdown",
   "metadata": {},
   "source": [
    "## Drop the Table\n",
    "\n",
    "While this has been fun, it is time to drop the table!"
   ]
  },
  {
   "cell_type": "code",
   "execution_count": null,
   "metadata": {
    "vscode": {
     "languageId": "sql"
    }
   },
   "outputs": [],
   "source": [
    "DROP TABLE Sep2025JunkDB.yogalakshmi_kanagavel.planned_makes;"
   ]
  }
 ],
 "metadata": {
  "language_info": {
   "name": "python"
  }
 },
 "nbformat": 4,
 "nbformat_minor": 2
}
